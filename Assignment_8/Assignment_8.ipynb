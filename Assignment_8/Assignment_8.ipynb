{
  "nbformat": 4,
  "nbformat_minor": 0,
  "metadata": {
    "colab": {
      "name": "Assignment_8.ipynb",
      "provenance": []
    },
    "kernelspec": {
      "name": "python3",
      "display_name": "Python 3"
    }
  },
  "cells": [
    {
      "cell_type": "code",
      "metadata": {
        "id": "M-Vc5K8gcOz4"
      },
      "source": [
        "import numpy as np\r\n",
        "import matplotlib.pyplot as plt\r\n",
        "from sklearn import preprocessing\r\n",
        "import seaborn as sns\r\n",
        "\r\n",
        "class LDA:\r\n",
        "    def __init__(self):\r\n",
        "        pass\r\n",
        "\r\n",
        "    def fit(self, X, y):\r\n",
        "        target_classes = np.unique(y)\r\n",
        "\r\n",
        "        mean_vectors = []\r\n",
        "\r\n",
        "        for cls in target_classes:\r\n",
        "            mean_vectors.append(np.mean(X[y == cls], axis=0))\r\n",
        "\r\n",
        "        mu1_mu2 = (mean_vectors[0] - mean_vectors[1]).reshape(1, X.shape[1])\r\n",
        "        B = np.dot(mu1_mu2.T, mu1_mu2)\r\n",
        "\r\n",
        "        s_matrix = []\r\n",
        "\r\n",
        "        for cls, mean in enumerate(mean_vectors):\r\n",
        "            Si = np.zeros((X.shape[1], X.shape[1]))\r\n",
        "            for row in X[y == cls]:\r\n",
        "                t = (row - mean).reshape(1, X.shape[1])\r\n",
        "                Si += np.dot(t.T, t)\r\n",
        "            s_matrix.append(Si)\r\n",
        "\r\n",
        "        S = np.zeros((X.shape[1], X.shape[1]))\r\n",
        "        for s_i in s_matrix:\r\n",
        "            S += s_i\r\n",
        "\r\n",
        "        S_inv = np.linalg.inv(S)\r\n",
        "\r\n",
        "        S_inv_B = S_inv.dot(B)\r\n",
        "\r\n",
        "        eig_vals, eig_vecs = np.linalg.eig(S_inv_B)\r\n",
        "\r\n",
        "        idx = eig_vals.argsort()[::-1]\r\n",
        "\r\n",
        "        eig_vals = eig_vals[idx]\r\n",
        "        eig_vecs = eig_vecs[:, idx]\r\n",
        "\r\n",
        "        return eig_vecs\r\n"
      ],
      "execution_count": 39,
      "outputs": []
    },
    {
      "cell_type": "code",
      "metadata": {
        "id": "aRwG69k-h0SA"
      },
      "source": [
        "def load_data(cols, load_all=False, head=False):\r\n",
        "    iris = sns.load_dataset(\"iris\")\r\n",
        "\r\n",
        "    if not load_all:\r\n",
        "        if head:\r\n",
        "            iris = iris.head(100)\r\n",
        "        else:\r\n",
        "            iris = iris.tail(100)\r\n",
        "\r\n",
        "    le = preprocessing.LabelEncoder()\r\n",
        "    y = le.fit_transform(iris[\"species\"])\r\n",
        "\r\n",
        "    X = iris.drop([\"species\"], axis=1)\r\n",
        "\r\n",
        "    if len(cols) > 0:\r\n",
        "        X = X[cols]\r\n",
        "\r\n",
        "    return X.values, y"
      ],
      "execution_count": 40,
      "outputs": []
    },
    {
      "cell_type": "code",
      "metadata": {
        "colab": {
          "base_uri": "https://localhost:8080/"
        },
        "id": "Ygym6cnih74q",
        "outputId": "1e7cf2c4-30b9-493d-9bf7-c190a070e899"
      },
      "source": [
        "cols = [\"petal_length\", \"petal_width\"]\r\n",
        "X, y = load_data(cols, load_all=False, head=True)\r\n",
        "print(X.shape)"
      ],
      "execution_count": 41,
      "outputs": [
        {
          "output_type": "stream",
          "text": [
            "(100, 2)\n"
          ],
          "name": "stdout"
        }
      ]
    },
    {
      "cell_type": "code",
      "metadata": {
        "id": "1lT_9EdLiAHC"
      },
      "source": [
        "lda = LDA()\r\n",
        "eig_vecs = lda.fit(X, y)\r\n",
        "W = eig_vecs[:, :1]"
      ],
      "execution_count": 42,
      "outputs": []
    },
    {
      "cell_type": "code",
      "metadata": {
        "colab": {
          "base_uri": "https://localhost:8080/",
          "height": 483
        },
        "id": "qp02-0i7iDc6",
        "outputId": "dfd2c6fd-1271-41e3-8ea6-3a11b477e0d4"
      },
      "source": [
        "colors = ['red', 'green']\r\n",
        "fig, ax = plt.subplots(figsize=(10, 8))\r\n",
        "for point, pred in zip(X, y):\r\n",
        "    ax.scatter(point[0], point[1], color=colors[pred], alpha=0.3)\r\n",
        "    proj = (np.dot(point, W) * W) / np.dot(W.T, W)\r\n",
        "\r\n",
        "    ax.scatter(proj[0], proj[1], color=colors[pred], alpha=0.3)\r\n",
        "\r\n",
        "plt.show()"
      ],
      "execution_count": 43,
      "outputs": [
        {
          "output_type": "display_data",
          "data": {
            "image/png": "[encoded data removed]",
            "text/plain": [
              "<Figure size 720x576 with 1 Axes>"
            ]
          },
          "metadata": {
            "tags": [],
            "needs_background": "light"
          }
        }
      ]
    },
    {
      "cell_type": "code",
      "metadata": {
        "id": "BIwsjAkMiHEA"
      },
      "source": [
        ""
      ],
      "execution_count": null,
      "outputs": []
    }
  ]
}